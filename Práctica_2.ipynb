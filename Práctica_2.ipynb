{
  "nbformat": 4,
  "nbformat_minor": 0,
  "metadata": {
    "colab": {
      "provenance": []
    },
    "kernelspec": {
      "name": "python3",
      "display_name": "Python 3"
    },
    "language_info": {
      "name": "python"
    }
  },
  "cells": [
    {
      "cell_type": "code",
      "execution_count": null,
      "metadata": {
        "id": "n4Yn4xf3B-4Q"
      },
      "outputs": [],
      "source": [
        "import random\n",
        "import statistics\n",
        "\n",
        "class Persona:\n",
        "    def __init__(self, tiempo_interarribo, tipo_paciente):\n",
        "        \"\"\"Constructor de la persona para inicializar los atributos.\n",
        "\n",
        "        Palabras clave de los argumentos:\n",
        "        self -- es una referencia al objeto en si mismo\n",
        "        tiempo_interarribo -- acceso de atributo para obtenerlo y/o modificarlo\n",
        "        tipo_paciente -- acceso de atributo para obtenerlo y/o modificarlo\n",
        "        \"\"\"\n",
        "        self.tiempo_interarribo = tiempo_interarribo\n",
        "        self.tipo_paciente = tipo_paciente  # True para urgencia, False para rutinario\n",
        "\n",
        "\n",
        "    def generar_persona():\n",
        "        \"\"\"Asigna el tiempo de interarribo y el tipo de paciente y retorna una nueva persona.\"\"\"\n",
        "        tiempo_interarribo = random.uniform(0.5, 50)\n",
        "        tipo_paciente = random.random() < 0.2  # Numero aleatorio que verifica si esta abajo de la probabilidad de urgencia\n",
        "        return Persona(tiempo_interarribo, tipo_paciente)\n",
        "\n",
        "\n",
        "class Cola:\n",
        "    def __init__(self):\n",
        "        \"\"\"Constructor de la cola para inicializar una nueva cola.\"\"\"\n",
        "        self.pacientes = []\n",
        "\n",
        "    def agregar_paciente(self, paciente):\n",
        "        \"\"\"Agrega el paciente (persona) a la cola.\"\"\"\n",
        "        self.pacientes.append(paciente)\n",
        "\n",
        "    def siguiente_paciente(self):\n",
        "        \"\"\"Verifica si hay pacientes en la cola para ser atendido y eliminarlo de la cola.\n",
        "        Retorna el paciente si la cola tiene paciente, retorna None si no contiene nada la cola.\n",
        "        \"\"\"\n",
        "        if self.pacientes:\n",
        "            return self.pacientes.pop(0)\n",
        "        else:\n",
        "            return None\n",
        "\n",
        "\n",
        "class Simulacion:\n",
        "    def __init__(self, tiempo_atencion):\n",
        "        \"\"\"Constructor de la Simulacion para inicializar los atributos.\n",
        "\n",
        "        Palabras clave de los argumentos:\n",
        "        self -- es una referencia al objeto en si mismo\n",
        "        tiempo_atencion -- modificar el tiempo de atencion\n",
        "        \"\"\"\n",
        "        self.reloj = 0\n",
        "        self.cola = Cola()\n",
        "        self.tiempos_espera = []\n",
        "        self.tiempos_en_sistema = []\n",
        "        self.tiempo_atencion = tiempo_atencion\n",
        "\n",
        "    def avanzar_reloj(self, tiempo):\n",
        "        \"\"\"Actualizar el tiempo de la simulacion.\"\"\"\n",
        "        self.reloj += tiempo\n",
        "\n",
        "    def simular(self, num_personas):\n",
        "        \"\"\"Realiza la simulacion con el parametro de personas\"\"\"\n",
        "        for i in range(num_personas):\n",
        "            paciente = Persona.generar_persona()\n",
        "            self.cola.agregar_paciente(paciente)\n",
        "            tiempo_interarribo = paciente.tiempo_interarribo\n",
        "            self.avanzar_reloj(tiempo_interarribo) # Avanzar el reloj al tiempo de llegada del próximo paciente\n",
        "            if self.reloj >= self.tiempo_atencion:  # Verificar si es tiempo de atender a un paciente\n",
        "                paciente_atendido = self.cola.siguiente_paciente() # Obtener al paciente siguiente en la cola\n",
        "                tiempo_espera = max(0, self.reloj - paciente_atendido.tiempo_interarribo) # Calcular el tiempo de espera del paciente\n",
        "                tiempo_en_sistema = tiempo_espera + self.tiempo_atencion\n",
        "                self.tiempos_espera.append(tiempo_espera) # Registrar el tiempo de espera del paciente\n",
        "                self.tiempos_en_sistema.append(tiempo_en_sistema)\n",
        "                self.avanzar_reloj(self.tiempo_atencion) # Avanzar el reloj por el tiempo de atención\n",
        "\n",
        "    def obtener_estadisticas(self):\n",
        "        promedio_espera = statistics.mean(self.tiempos_espera)\n",
        "        promedio_en_sistema = statistics.mean(self.tiempos_en_sistema)\n",
        "        return promedio_espera, promedio_en_sistema\n",
        "\n",
        "\n"
      ]
    },
    {
      "cell_type": "markdown",
      "source": [
        "# Pregunta 1: Realizar 20 simulaciones con tiempo de atención de 30 minutos"
      ],
      "metadata": {
        "id": "c12QsRL4scqX"
      }
    },
    {
      "cell_type": "code",
      "source": [
        "    promedios_espera_1 = []\n",
        "    promedios_sistema_1 = []\n",
        "    for _ in range(20):\n",
        "        simulacion = Simulacion(tiempo_atencion=30)\n",
        "        simulacion.simular(50000)\n",
        "        promedio_espera, promedio_sistema = simulacion.obtener_estadisticas()\n",
        "        promedios_espera_1.append(promedio_espera)\n",
        "        promedios_sistema_1.append(promedio_sistema)\n",
        "    print(\"Tiempo promedio de espera:\", statistics.mean(promedios_espera_1))\n",
        "    print(\"Tiempo promedio en el sistema:\", statistics.mean(promedios_sistema_1))"
      ],
      "metadata": {
        "colab": {
          "base_uri": "https://localhost:8080/"
        },
        "id": "QJMJfBrQsaTd",
        "outputId": "4f08ed75-8b1a-44ed-8339-b04712f678ed"
      },
      "execution_count": null,
      "outputs": [
        {
          "output_type": "stream",
          "name": "stdout",
          "text": [
            "Tiempo promedio de espera: 1381160.5117638465\n",
            "Tiempo promedio en el sistema: 1381190.5117638465\n"
          ]
        }
      ]
    },
    {
      "cell_type": "markdown",
      "source": [
        "# Pregunta 2: Realizar 20 simulaciones con tiempo de atención de 20 minutos"
      ],
      "metadata": {
        "id": "Hbd9roD7ty1K"
      }
    },
    {
      "cell_type": "code",
      "source": [
        "    # Listas para almacenar los promedios de espera\n",
        "    promedios_espera_2 = []\n",
        "    promedios_sistema_2 = []\n",
        "    for _ in range(20):\n",
        "        simulacion = Simulacion(tiempo_atencion=20)\n",
        "        simulacion.simular(50000)\n",
        "        promedio_espera, promedio_sistema = simulacion.obtener_estadisticas()\n",
        "        promedios_espera_2.append(promedio_espera)\n",
        "        promedios_sistema_2.append(promedio_sistema)\n",
        "    print(\"Tiempo promedio de espera:\", statistics.mean(promedios_espera_2))\n",
        "    print(\"Tiempo promedio en el sistema:\", statistics.mean(promedios_sistema_2))"
      ],
      "metadata": {
        "colab": {
          "base_uri": "https://localhost:8080/"
        },
        "id": "VXBFg8Hwt0T9",
        "outputId": "0fdd72dc-796c-44b9-e611-991ccdd9f527"
      },
      "execution_count": null,
      "outputs": [
        {
          "output_type": "stream",
          "name": "stdout",
          "text": [
            "Tiempo promedio de espera: 1131449.6506889698\n",
            "Tiempo promedio en el sistema: 1131469.6506889698\n"
          ]
        }
      ]
    },
    {
      "cell_type": "markdown",
      "source": [
        "# Pregunta 3: Simular con política de prioridad para urgencia"
      ],
      "metadata": {
        "id": "SIoPgdfzuAIF"
      }
    },
    {
      "cell_type": "code",
      "source": [
        "    # Listas para almacenar los promedios de espera\n",
        "    promedios_espera_urgencia = []\n",
        "    promedios_espera_rutinario = []\n",
        "    for _ in range(20):\n",
        "        simulacion = Simulacion(tiempo_atencion=20)\n",
        "        simulacion.simular(50000)\n",
        "        # Inicializamos variables para calcular los promedios de espera de urgencia y rutinarios\n",
        "        suma_urgencia = 0\n",
        "        cuenta_urgencia = 0\n",
        "        suma_rutinario = 0\n",
        "        cuenta_rutinario = 0\n",
        "        # Iteramos sobre los pacientes en la simulación para calcular las sumas y cuentas de los tiempos de espera\n",
        "        for espera, tipo in zip(simulacion.tiempos_espera, simulacion.cola.pacientes):\n",
        "            if tipo.tipo_paciente:  # Si es paciente de urgencia\n",
        "                suma_urgencia += espera\n",
        "                cuenta_urgencia += 1\n",
        "            else:  # Si es paciente rutinario\n",
        "                suma_rutinario += espera\n",
        "                cuenta_rutinario += 1\n",
        "        # Calculamos los promedios de espera y los agregamos a las listas correspondientes, asegurandonos de no dividir por cero\n",
        "        if cuenta_urgencia > 0:\n",
        "            promedios_espera_urgencia.append(suma_urgencia / cuenta_urgencia)\n",
        "        if cuenta_rutinario > 0:\n",
        "            promedios_espera_rutinario.append(suma_rutinario / cuenta_rutinario)\n",
        "    print(\"Tiempo promedio de espera para pacientes de urgencia:\", statistics.mean(promedios_espera_urgencia))\n",
        "    print(\"Tiempo promedio de espera para pacientes rutinarios:\", statistics.mean(promedios_espera_rutinario))"
      ],
      "metadata": {
        "colab": {
          "base_uri": "https://localhost:8080/"
        },
        "id": "sXcemwdvuAh9",
        "outputId": "463c701a-13af-4c2d-e468-c8152a6f09b0"
      },
      "execution_count": null,
      "outputs": [
        {
          "output_type": "stream",
          "name": "stdout",
          "text": [
            "Tiempo promedio de espera para pacientes de urgencia: 29.495434312541192\n",
            "Tiempo promedio de espera para pacientes rutinarios: 52.60462253126327\n"
          ]
        }
      ]
    }
  ]
}